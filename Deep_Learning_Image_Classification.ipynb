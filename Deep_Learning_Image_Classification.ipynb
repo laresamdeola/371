{
  "nbformat": 4,
  "nbformat_minor": 0,
  "metadata": {
    "colab": {
      "name": "Deep Learning Image Classification.ipynb",
      "provenance": [],
      "authorship_tag": "ABX9TyMThE0OsiA3TA7Y4TAdFK0D"
    },
    "kernelspec": {
      "name": "python3",
      "display_name": "Python 3"
    },
    "language_info": {
      "name": "python"
    }
  },
  "cells": [
    {
      "cell_type": "code",
      "execution_count": 1,
      "metadata": {
        "id": "dnYeyho-ZPS5"
      },
      "outputs": [],
      "source": [
        "import tensorflow as tf\n",
        "from tensorflow.keras import datasets, layers, models\n",
        "import matplotlib.pyplot as plt\n",
        "import numpy as np"
      ]
    },
    {
      "cell_type": "code",
      "source": [
        "(X_train, y_train), (X_test, y_test) = datasets.cifar10.load_data()\n",
        "X_train.shape"
      ],
      "metadata": {
        "colab": {
          "base_uri": "https://localhost:8080/"
        },
        "id": "ztNlydQ8ZolV",
        "outputId": "eddcf6fe-cad8-45a4-e0ef-a014a40013f9"
      },
      "execution_count": 2,
      "outputs": [
        {
          "output_type": "stream",
          "name": "stdout",
          "text": [
            "Downloading data from https://www.cs.toronto.edu/~kriz/cifar-10-python.tar.gz\n",
            "170500096/170498071 [==============================] - 11s 0us/step\n",
            "170508288/170498071 [==============================] - 11s 0us/step\n"
          ]
        },
        {
          "output_type": "execute_result",
          "data": {
            "text/plain": [
              "(50000, 32, 32, 3)"
            ]
          },
          "metadata": {},
          "execution_count": 2
        }
      ]
    },
    {
      "cell_type": "code",
      "source": [
        "X_test.shape"
      ],
      "metadata": {
        "colab": {
          "base_uri": "https://localhost:8080/"
        },
        "id": "srqI-iqXaG8B",
        "outputId": "b066bcf7-2efd-45f0-ba6f-f583642493cf"
      },
      "execution_count": 3,
      "outputs": [
        {
          "output_type": "execute_result",
          "data": {
            "text/plain": [
              "(10000, 32, 32, 3)"
            ]
          },
          "metadata": {},
          "execution_count": 3
        }
      ]
    },
    {
      "cell_type": "code",
      "source": [
        "y_test.shape"
      ],
      "metadata": {
        "colab": {
          "base_uri": "https://localhost:8080/"
        },
        "id": "XyFe7VhubqcN",
        "outputId": "216a7230-c332-4d47-bec6-f9d168ee007f"
      },
      "execution_count": 10,
      "outputs": [
        {
          "output_type": "execute_result",
          "data": {
            "text/plain": [
              "(10000, 1)"
            ]
          },
          "metadata": {},
          "execution_count": 10
        }
      ]
    },
    {
      "cell_type": "code",
      "source": [
        "y_train.shape"
      ],
      "metadata": {
        "colab": {
          "base_uri": "https://localhost:8080/"
        },
        "id": "Ffud04eGb_yc",
        "outputId": "6638c5f1-f097-47b1-f15b-f9524068af20"
      },
      "execution_count": 11,
      "outputs": [
        {
          "output_type": "execute_result",
          "data": {
            "text/plain": [
              "(50000, 1)"
            ]
          },
          "metadata": {},
          "execution_count": 11
        }
      ]
    },
    {
      "cell_type": "code",
      "source": [
        "y_train[:5]"
      ],
      "metadata": {
        "colab": {
          "base_uri": "https://localhost:8080/"
        },
        "id": "d7XzAS1kcEH1",
        "outputId": "9e0913e9-c45a-4127-d399-7117a3208de3"
      },
      "execution_count": 12,
      "outputs": [
        {
          "output_type": "execute_result",
          "data": {
            "text/plain": [
              "array([[6],\n",
              "       [9],\n",
              "       [9],\n",
              "       [4],\n",
              "       [1]], dtype=uint8)"
            ]
          },
          "metadata": {},
          "execution_count": 12
        }
      ]
    },
    {
      "cell_type": "code",
      "source": [
        "y_train = y_train.reshape(-1,)\n",
        "y_train[:5]"
      ],
      "metadata": {
        "colab": {
          "base_uri": "https://localhost:8080/"
        },
        "id": "HruayS5OcIiI",
        "outputId": "6917e5c1-41ef-49f0-b6ec-910fb37abd4c"
      },
      "execution_count": 13,
      "outputs": [
        {
          "output_type": "execute_result",
          "data": {
            "text/plain": [
              "array([6, 9, 9, 4, 1], dtype=uint8)"
            ]
          },
          "metadata": {},
          "execution_count": 13
        }
      ]
    },
    {
      "cell_type": "code",
      "source": [
        "classes = [\"airplane\", \"automobile\", \"bird\", \"cat\", \"deer\", \"dog\", \"frog\", \"horse\", \"ship\", \"truck\"]"
      ],
      "metadata": {
        "id": "G0WSzbmRa3Ij"
      },
      "execution_count": 7,
      "outputs": []
    },
    {
      "cell_type": "code",
      "source": [
        "def plot_sample(X, y, index):\n",
        "  plt.figure(figsize=(15,2))\n",
        "  plt.imshow(X[index])\n",
        "  plt.xlabel(classes[y[index]])"
      ],
      "metadata": {
        "id": "bwiXY3IoaJ1F"
      },
      "execution_count": 14,
      "outputs": []
    },
    {
      "cell_type": "code",
      "source": [
        "plot_sample(X_train, y_train, 5)"
      ],
      "metadata": {
        "colab": {
          "base_uri": "https://localhost:8080/",
          "height": 173
        },
        "id": "isaCigtRcpaz",
        "outputId": "728b275f-08f3-4fd8-9304-52ff0c9cbb97"
      },
      "execution_count": 15,
      "outputs": [
        {
          "output_type": "display_data",
          "data": {
            "text/plain": [
              "<Figure size 1080x144 with 1 Axes>"
            ],
            "image/png": "[encoded data removed]"
          },
          "metadata": {
            "needs_background": "light"
          }
        }
      ]
    },
    {
      "cell_type": "code",
      "source": [
        "X_train = X_train/255\n",
        "X_test = X_test/255"
      ],
      "metadata": {
        "id": "u9NiTzoVdBaP"
      },
      "execution_count": 16,
      "outputs": []
    },
    {
      "cell_type": "code",
      "source": [
        "ann = models.Sequential([\n",
        "                         layers.Flatten(input_shape=(32,32,3)),\n",
        "                         layers.Dense(3000, activation='relu'),\n",
        "                         layers.Dense(1000, activation='relu'),\n",
        "                         layers.Dense(10, activation='sigmoid')\n",
        "      ])\n",
        "\n",
        "ann.compile(optimizer = 'SGD', loss='sparse_categorical_crossentropy',\n",
        "            metrics=['accuracy'])\n",
        "\n",
        "ann.fit(X_train, y_train, epochs=10)"
      ],
      "metadata": {
        "colab": {
          "base_uri": "https://localhost:8080/"
        },
        "id": "dPLiER6ldV5v",
        "outputId": "ce3035cc-b4dc-4c1c-f75c-6c0e8e23fdae"
      },
      "execution_count": 17,
      "outputs": [
        {
          "output_type": "stream",
          "name": "stdout",
          "text": [
            "Epoch 1/10\n",
            "1563/1563 [==============================] - 104s 66ms/step - loss: 1.8090 - accuracy: 0.3545\n",
            "Epoch 2/10\n",
            "1563/1563 [==============================] - 101s 65ms/step - loss: 1.6237 - accuracy: 0.4246\n",
            "Epoch 3/10\n",
            "1563/1563 [==============================] - 103s 66ms/step - loss: 1.5436 - accuracy: 0.4538\n",
            "Epoch 4/10\n",
            "1563/1563 [==============================] - 102s 65ms/step - loss: 1.4847 - accuracy: 0.4781\n",
            "Epoch 5/10\n",
            "1563/1563 [==============================] - 108s 69ms/step - loss: 1.4340 - accuracy: 0.4947\n",
            "Epoch 6/10\n",
            "1563/1563 [==============================] - 120s 77ms/step - loss: 1.3911 - accuracy: 0.5092\n",
            "Epoch 7/10\n",
            "1563/1563 [==============================] - 133s 85ms/step - loss: 1.3525 - accuracy: 0.5255\n",
            "Epoch 8/10\n",
            "1563/1563 [==============================] - 105s 67ms/step - loss: 1.3174 - accuracy: 0.5384\n",
            "Epoch 9/10\n",
            "1563/1563 [==============================] - 104s 67ms/step - loss: 1.2835 - accuracy: 0.5475\n",
            "Epoch 10/10\n",
            "1563/1563 [==============================] - 103s 66ms/step - loss: 1.2548 - accuracy: 0.5582\n"
          ]
        },
        {
          "output_type": "execute_result",
          "data": {
            "text/plain": [
              "<keras.callbacks.History at 0x7f0607cd0310>"
            ]
          },
          "metadata": {},
          "execution_count": 17
        }
      ]
    },
    {
      "cell_type": "code",
      "source": [
        "ann.evaluate(X_test, y_test)"
      ],
      "metadata": {
        "colab": {
          "base_uri": "https://localhost:8080/"
        },
        "id": "8HoPUBFpgdu9",
        "outputId": "77be6553-4d1f-4d04-ab26-25f1fa08b9d0"
      },
      "execution_count": 18,
      "outputs": [
        {
          "output_type": "stream",
          "name": "stdout",
          "text": [
            "313/313 [==============================] - 8s 26ms/step - loss: 1.4279 - accuracy: 0.4969\n"
          ]
        },
        {
          "output_type": "execute_result",
          "data": {
            "text/plain": [
              "[1.427903175354004, 0.4968999922275543]"
            ]
          },
          "metadata": {},
          "execution_count": 18
        }
      ]
    },
    {
      "cell_type": "code",
      "source": [
        "from sklearn.metrics import confusion_matrix, classification_report\n",
        "\n",
        "y_pred = ann.predict(X_test)\n",
        "y_pred_classes = [np.argmax(element) for element in y_pred]\n",
        "\n",
        "print(\"Classification Report: \\n\", classification_report(y_test, y_pred_classes))"
      ],
      "metadata": {
        "colab": {
          "base_uri": "https://localhost:8080/"
        },
        "id": "lhwdUukDglgn",
        "outputId": "815db205-5b25-4f06-ff57-c7ecac2a6a62"
      },
      "execution_count": 19,
      "outputs": [
        {
          "output_type": "stream",
          "name": "stdout",
          "text": [
            "Classification Report: \n",
            "               precision    recall  f1-score   support\n",
            "\n",
            "           0       0.64      0.55      0.59      1000\n",
            "           1       0.83      0.41      0.55      1000\n",
            "           2       0.36      0.53      0.43      1000\n",
            "           3       0.29      0.53      0.38      1000\n",
            "           4       0.42      0.41      0.42      1000\n",
            "           5       0.41      0.39      0.40      1000\n",
            "           6       0.67      0.44      0.53      1000\n",
            "           7       0.63      0.52      0.57      1000\n",
            "           8       0.76      0.52      0.61      1000\n",
            "           9       0.52      0.68      0.59      1000\n",
            "\n",
            "    accuracy                           0.50     10000\n",
            "   macro avg       0.55      0.50      0.51     10000\n",
            "weighted avg       0.55      0.50      0.51     10000\n",
            "\n"
          ]
        }
      ]
    },
    {
      "cell_type": "code",
      "source": [
        "cnn = models.Sequential([\n",
        "                         \n",
        "                         #CNN\n",
        "                         layers.Conv2D(filters=32, kernel_size=(3,3), activation='relu', input_shape=(32,32,3)),\n",
        "                         layers.MaxPooling2D((2,2)),\n",
        "\n",
        "                         layers.Conv2D(filters=32, kernel_size=(3,3), activation='relu'),\n",
        "                         layers.MaxPooling2D((2,2)),\n",
        "                         \n",
        "                         # Dense\n",
        "                         layers.Flatten(),\n",
        "                         layers.Dense(64, activation='relu'),\n",
        "                         layers.Dense(10, activation='softmax')\n",
        "      ])"
      ],
      "metadata": {
        "id": "4lw75ZA2jHMR"
      },
      "execution_count": 20,
      "outputs": []
    },
    {
      "cell_type": "code",
      "source": [
        "cnn.compile(optimizer='adam',\n",
        "              loss='sparse_categorical_crossentropy',\n",
        "              metrics=['accuracy'])"
      ],
      "metadata": {
        "id": "Q6s8czzklotu"
      },
      "execution_count": 21,
      "outputs": []
    },
    {
      "cell_type": "code",
      "source": [
        "cnn.fit(X_train, y_train, epochs=10)"
      ],
      "metadata": {
        "colab": {
          "base_uri": "https://localhost:8080/"
        },
        "id": "cy3NALqLl199",
        "outputId": "c469607d-9bf6-497d-d63e-9f00f9b2c3f5"
      },
      "execution_count": 22,
      "outputs": [
        {
          "output_type": "stream",
          "name": "stdout",
          "text": [
            "Epoch 1/10\n",
            "1563/1563 [==============================] - 57s 36ms/step - loss: 1.4827 - accuracy: 0.4668\n",
            "Epoch 2/10\n",
            "1563/1563 [==============================] - 54s 35ms/step - loss: 1.1465 - accuracy: 0.5959\n",
            "Epoch 3/10\n",
            "1563/1563 [==============================] - 54s 34ms/step - loss: 1.0220 - accuracy: 0.6421\n",
            "Epoch 4/10\n",
            "1563/1563 [==============================] - 54s 34ms/step - loss: 0.9502 - accuracy: 0.6682\n",
            "Epoch 5/10\n",
            "1563/1563 [==============================] - 53s 34ms/step - loss: 0.8966 - accuracy: 0.6898\n",
            "Epoch 6/10\n",
            "1563/1563 [==============================] - 52s 34ms/step - loss: 0.8485 - accuracy: 0.7051\n",
            "Epoch 7/10\n",
            "1563/1563 [==============================] - 52s 34ms/step - loss: 0.8055 - accuracy: 0.7200\n",
            "Epoch 8/10\n",
            "1563/1563 [==============================] - 52s 34ms/step - loss: 0.7697 - accuracy: 0.7343\n",
            "Epoch 9/10\n",
            "1563/1563 [==============================] - 52s 33ms/step - loss: 0.7326 - accuracy: 0.7454\n",
            "Epoch 10/10\n",
            "1563/1563 [==============================] - 52s 34ms/step - loss: 0.7025 - accuracy: 0.7547\n"
          ]
        },
        {
          "output_type": "execute_result",
          "data": {
            "text/plain": [
              "<keras.callbacks.History at 0x7f0600cfd950>"
            ]
          },
          "metadata": {},
          "execution_count": 22
        }
      ]
    },
    {
      "cell_type": "code",
      "source": [
        "cnn.evaluate(X_test, y_test)"
      ],
      "metadata": {
        "colab": {
          "base_uri": "https://localhost:8080/"
        },
        "id": "-RcZgTyZoX7G",
        "outputId": "a4541e32-5304-4f4c-b64c-a0495ea504a4"
      },
      "execution_count": 23,
      "outputs": [
        {
          "output_type": "stream",
          "name": "stdout",
          "text": [
            "313/313 [==============================] - 4s 11ms/step - loss: 0.9328 - accuracy: 0.6883\n"
          ]
        },
        {
          "output_type": "execute_result",
          "data": {
            "text/plain": [
              "[0.9328256845474243, 0.6883000135421753]"
            ]
          },
          "metadata": {},
          "execution_count": 23
        }
      ]
    },
    {
      "cell_type": "code",
      "source": [
        "y_test = y_test.reshape(-1,)\n",
        "plot_sample(X_test, y_test, 1)"
      ],
      "metadata": {
        "colab": {
          "base_uri": "https://localhost:8080/",
          "height": 173
        },
        "id": "n4suRw2LpBGl",
        "outputId": "970d7a33-f495-4f44-c8f2-09f725069705"
      },
      "execution_count": 24,
      "outputs": [
        {
          "output_type": "display_data",
          "data": {
            "text/plain": [
              "<Figure size 1080x144 with 1 Axes>"
            ],
            "image/png": "[encoded data removed]"
          },
          "metadata": {
            "needs_background": "light"
          }
        }
      ]
    },
    {
      "cell_type": "code",
      "source": [
        "y_pred = cnn.predict(X_test)\n",
        "y_pred[:5]"
      ],
      "metadata": {
        "colab": {
          "base_uri": "https://localhost:8080/"
        },
        "id": "g9JEI1HxpMlZ",
        "outputId": "28b1d27d-b393-4368-e750-38893e994111"
      },
      "execution_count": 25,
      "outputs": [
        {
          "output_type": "execute_result",
          "data": {
            "text/plain": [
              "array([[3.07479664e-03, 1.30918599e-03, 1.21783964e-01, 6.36444092e-01,\n",
              "        1.93212251e-03, 1.09757029e-01, 2.41178125e-02, 6.19519851e-05,\n",
              "        9.57387462e-02, 5.78022934e-03],\n",
              "       [4.07533441e-03, 3.89811635e-01, 5.88034027e-07, 2.06756667e-05,\n",
              "        8.35355308e-07, 3.30298207e-07, 4.19732649e-09, 7.33487980e-07,\n",
              "        6.05475545e-01, 6.14285585e-04],\n",
              "       [1.22606143e-01, 3.19382250e-01, 4.73055959e-04, 1.44966077e-02,\n",
              "        1.08540780e-03, 2.42743781e-03, 9.68202017e-04, 5.88147994e-03,\n",
              "        2.12931827e-01, 3.19747508e-01],\n",
              "       [7.83815742e-01, 8.04682821e-03, 3.22842933e-02, 1.30919181e-02,\n",
              "        5.94923180e-03, 1.94324733e-04, 1.61736010e-04, 3.90523492e-05,\n",
              "        1.55799553e-01, 6.17304235e-04],\n",
              "       [2.51236288e-05, 4.89704602e-04, 7.94206262e-02, 1.25059441e-01,\n",
              "        6.16876841e-01, 5.58619015e-02, 1.22016892e-01, 1.34462680e-04,\n",
              "        8.09209887e-05, 3.41045561e-05]], dtype=float32)"
            ]
          },
          "metadata": {},
          "execution_count": 25
        }
      ]
    },
    {
      "cell_type": "code",
      "source": [
        "y_classes = [np.argmax(element) for element in y_pred]\n",
        "y_classes[:5]"
      ],
      "metadata": {
        "colab": {
          "base_uri": "https://localhost:8080/"
        },
        "id": "2kCqXnSmpWur",
        "outputId": "90800c4a-ceba-4778-ddb9-df5ccd9097e5"
      },
      "execution_count": 26,
      "outputs": [
        {
          "output_type": "execute_result",
          "data": {
            "text/plain": [
              "[3, 8, 9, 0, 4]"
            ]
          },
          "metadata": {},
          "execution_count": 26
        }
      ]
    },
    {
      "cell_type": "code",
      "source": [
        "y_test[:5]"
      ],
      "metadata": {
        "colab": {
          "base_uri": "https://localhost:8080/"
        },
        "id": "F4LQCWL7p53X",
        "outputId": "b098d72f-2370-4e96-c7ef-b62da0efc246"
      },
      "execution_count": 27,
      "outputs": [
        {
          "output_type": "execute_result",
          "data": {
            "text/plain": [
              "array([3, 8, 8, 0, 6], dtype=uint8)"
            ]
          },
          "metadata": {},
          "execution_count": 27
        }
      ]
    },
    {
      "cell_type": "code",
      "source": [
        "print(\"Classification Report: \\n\", classification_report(y_test, y_classes))"
      ],
      "metadata": {
        "colab": {
          "base_uri": "https://localhost:8080/"
        },
        "id": "fW-muwcwqA0I",
        "outputId": "2cce93b1-3d0a-4b8b-95c0-5bc3d79fa658"
      },
      "execution_count": 28,
      "outputs": [
        {
          "output_type": "stream",
          "name": "stdout",
          "text": [
            "Classification Report: \n",
            "               precision    recall  f1-score   support\n",
            "\n",
            "           0       0.72      0.76      0.74      1000\n",
            "           1       0.76      0.84      0.80      1000\n",
            "           2       0.54      0.61      0.57      1000\n",
            "           3       0.52      0.45      0.48      1000\n",
            "           4       0.69      0.58      0.63      1000\n",
            "           5       0.56      0.64      0.60      1000\n",
            "           6       0.76      0.80      0.78      1000\n",
            "           7       0.78      0.71      0.74      1000\n",
            "           8       0.83      0.72      0.77      1000\n",
            "           9       0.75      0.78      0.77      1000\n",
            "\n",
            "    accuracy                           0.69     10000\n",
            "   macro avg       0.69      0.69      0.69     10000\n",
            "weighted avg       0.69      0.69      0.69     10000\n",
            "\n"
          ]
        }
      ]
    }
  ]
}