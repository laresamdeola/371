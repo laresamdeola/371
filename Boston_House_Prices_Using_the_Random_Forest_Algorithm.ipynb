{
  "nbformat": 4,
  "nbformat_minor": 0,
  "metadata": {
    "colab": {
      "name": "Boston House Prices Using the Random Forest Algorithm.ipynb",
      "provenance": [],
      "authorship_tag": "ABX9TyNpfOR9kLDc5e1lwUG/ve/K"
    },
    "kernelspec": {
      "name": "python3",
      "display_name": "Python 3"
    },
    "language_info": {
      "name": "python"
    }
  },
  "cells": [
    {
      "cell_type": "code",
      "execution_count": null,
      "metadata": {
        "id": "UOkYY1Y0u18e"
      },
      "outputs": [],
      "source": [
        "import numpy as np\n",
        "import pandas as pd"
      ]
    },
    {
      "cell_type": "code",
      "source": [
        "data = pd.read_csv('boston_housing.csv')\n",
        "data.info()"
      ],
      "metadata": {
        "colab": {
          "base_uri": "https://localhost:8080/"
        },
        "id": "e1QES5EPu7qs",
        "outputId": "084ec957-7d44-409f-9c29-e6de8338f44d"
      },
      "execution_count": null,
      "outputs": [
        {
          "output_type": "stream",
          "name": "stdout",
          "text": [
            "<class 'pandas.core.frame.DataFrame'>\n",
            "RangeIndex: 506 entries, 0 to 505\n",
            "Data columns (total 14 columns):\n",
            " #   Column   Non-Null Count  Dtype  \n",
            "---  ------   --------------  -----  \n",
            " 0   CRIM     506 non-null    float64\n",
            " 1   ZN       506 non-null    float64\n",
            " 2   INDUS    506 non-null    float64\n",
            " 3   CHAS     506 non-null    float64\n",
            " 4   NOX      506 non-null    float64\n",
            " 5   RM       506 non-null    float64\n",
            " 6   AGE      506 non-null    float64\n",
            " 7   DIS      506 non-null    float64\n",
            " 8   RAD      506 non-null    int64  \n",
            " 9   TAX      506 non-null    float64\n",
            " 10  PTRATIO  506 non-null    float64\n",
            " 11  B        506 non-null    float64\n",
            " 12  LSTAT    506 non-null    float64\n",
            " 13  MEDV     452 non-null    float64\n",
            "dtypes: float64(13), int64(1)\n",
            "memory usage: 55.5 KB\n"
          ]
        }
      ]
    },
    {
      "cell_type": "code",
      "source": [
        "missing_data = data['MEDV'].mean()"
      ],
      "metadata": {
        "id": "dnLiBYU_vWmt"
      },
      "execution_count": null,
      "outputs": []
    },
    {
      "cell_type": "code",
      "source": [
        "data.info()"
      ],
      "metadata": {
        "colab": {
          "base_uri": "https://localhost:8080/"
        },
        "id": "0M7u4Ebyvtn5",
        "outputId": "9b036950-0fdf-4ccc-9351-153cd2647aa4"
      },
      "execution_count": null,
      "outputs": [
        {
          "output_type": "stream",
          "name": "stdout",
          "text": [
            "<class 'pandas.core.frame.DataFrame'>\n",
            "RangeIndex: 506 entries, 0 to 505\n",
            "Data columns (total 14 columns):\n",
            " #   Column   Non-Null Count  Dtype  \n",
            "---  ------   --------------  -----  \n",
            " 0   CRIM     506 non-null    float64\n",
            " 1   ZN       506 non-null    float64\n",
            " 2   INDUS    506 non-null    float64\n",
            " 3   CHAS     506 non-null    float64\n",
            " 4   NOX      506 non-null    float64\n",
            " 5   RM       506 non-null    float64\n",
            " 6   AGE      506 non-null    float64\n",
            " 7   DIS      506 non-null    float64\n",
            " 8   RAD      506 non-null    int64  \n",
            " 9   TAX      506 non-null    float64\n",
            " 10  PTRATIO  506 non-null    float64\n",
            " 11  B        506 non-null    float64\n",
            " 12  LSTAT    506 non-null    float64\n",
            " 13  MEDV     506 non-null    float64\n",
            "dtypes: float64(13), int64(1)\n",
            "memory usage: 55.5 KB\n"
          ]
        }
      ]
    },
    {
      "cell_type": "code",
      "source": [
        "X = data.iloc[:, :-1].values\n",
        "y = data.iloc[:, -1].values"
      ],
      "metadata": {
        "id": "9PMQWxOXvxUZ"
      },
      "execution_count": null,
      "outputs": []
    },
    {
      "cell_type": "code",
      "source": [
        "from sklearn.model_selection import train_test_split\n",
        "X_train,X_test,y_train,y_test = train_test_split(X,y, test_size=0.2,random_state=0)"
      ],
      "metadata": {
        "id": "vSfK8wvqv6L-"
      },
      "execution_count": null,
      "outputs": []
    },
    {
      "cell_type": "code",
      "source": [
        "from sklearn.ensemble import RandomForestRegressor\n",
        "regressor = RandomForestRegressor(n_estimators=150, random_state=0)\n",
        "regressor.fit(X_train, y_train)"
      ],
      "metadata": {
        "colab": {
          "base_uri": "https://localhost:8080/"
        },
        "id": "58-bJUQbwKTy",
        "outputId": "2c8c55c3-59d4-420f-94f8-bc01f13e93d0"
      },
      "execution_count": null,
      "outputs": [
        {
          "output_type": "execute_result",
          "data": {
            "text/plain": [
              "RandomForestRegressor(n_estimators=150, random_state=0)"
            ]
          },
          "metadata": {},
          "execution_count": 18
        }
      ]
    },
    {
      "cell_type": "code",
      "source": [
        "y_pred = regressor.predict(X_test)\n",
        "np.set_printoptions(precision=2)\n",
        "print(np.concatenate((y_pred.reshape(len(y_pred), 1), y_test.reshape(len(y_test), 1)), 1))\n"
      ],
      "metadata": {
        "colab": {
          "base_uri": "https://localhost:8080/"
        },
        "id": "vezqjGUJwpA5",
        "outputId": "aa16a2f5-4156-4ce5-d0c0-8778b220557c"
      },
      "execution_count": null,
      "outputs": [
        {
          "output_type": "stream",
          "name": "stdout",
          "text": [
            "[[24.06 22.6 ]\n",
            " [23.36 50.  ]\n",
            " [22.3  23.  ]\n",
            " [23.75 23.75]\n",
            " [20.9  21.2 ]\n",
            " [20.54 19.9 ]\n",
            " [21.25 20.6 ]\n",
            " [20.06 18.7 ]\n",
            " [20.17 16.1 ]\n",
            " [19.57 18.6 ]\n",
            " [25.58 23.75]\n",
            " [23.79 23.75]\n",
            " [15.15 14.9 ]\n",
            " [23.75 23.75]\n",
            " [47.91 50.  ]\n",
            " [34.27 29.  ]\n",
            " [21.27 23.  ]\n",
            " [35.6  33.3 ]\n",
            " [26.4  29.4 ]\n",
            " [20.98 21.  ]\n",
            " [23.75 23.8 ]\n",
            " [21.58 19.1 ]\n",
            " [19.75 20.4 ]\n",
            " [24.65 29.1 ]\n",
            " [20.32 19.3 ]\n",
            " [23.8  23.75]\n",
            " [18.27 19.6 ]\n",
            " [15.67 19.4 ]\n",
            " [42.48 38.7 ]\n",
            " [18.86 18.7 ]\n",
            " [23.75 23.75]\n",
            " [18.28 20.  ]\n",
            " [20.71 20.5 ]\n",
            " [21.54 20.1 ]\n",
            " [23.14 23.6 ]\n",
            " [18.81 16.8 ]\n",
            " [23.72 23.75]\n",
            " [23.46 50.  ]\n",
            " [13.85 14.5 ]\n",
            " [14.56 13.3 ]\n",
            " [23.   23.9 ]\n",
            " [20.81 20.  ]\n",
            " [22.52 19.8 ]\n",
            " [14.36 13.8 ]\n",
            " [24.4  16.5 ]\n",
            " [21.97 21.6 ]\n",
            " [21.3  20.3 ]\n",
            " [16.25 17.  ]\n",
            " [14.18 11.8 ]\n",
            " [25.25 27.5 ]\n",
            " [16.83 15.6 ]\n",
            " [19.96 23.1 ]\n",
            " [21.95 24.3 ]\n",
            " [39.61 42.8 ]\n",
            " [15.1  15.6 ]\n",
            " [21.42 21.7 ]\n",
            " [19.3  17.1 ]\n",
            " [19.25 17.2 ]\n",
            " [24.96 23.75]\n",
            " [20.14 21.7 ]\n",
            " [21.56 18.6 ]\n",
            " [21.46 21.  ]\n",
            " [32.65 33.1 ]\n",
            " [31.91 31.5 ]\n",
            " [23.8  23.75]\n",
            " [27.69 29.8 ]\n",
            " [16.26 15.2 ]\n",
            " [20.43 15.  ]\n",
            " [23.79 23.75]\n",
            " [22.2  22.6 ]\n",
            " [20.13 20.  ]\n",
            " [22.5  21.4 ]\n",
            " [25.21 23.5 ]\n",
            " [31.2  31.2 ]\n",
            " [26.08 23.7 ]\n",
            " [23.75 23.75]\n",
            " [42.21 48.3 ]\n",
            " [22.82 24.4 ]\n",
            " [23.14 22.6 ]\n",
            " [20.15 18.3 ]\n",
            " [25.96 23.3 ]\n",
            " [18.87 17.1 ]\n",
            " [23.79 23.75]\n",
            " [42.85 44.8 ]\n",
            " [41.43 50.  ]\n",
            " [24.33 23.  ]\n",
            " [23.06 21.4 ]\n",
            " [23.75 23.75]\n",
            " [26.58 23.3 ]\n",
            " [16.43 23.2 ]\n",
            " [19.83 18.9 ]\n",
            " [23.75 23.75]\n",
            " [22.64 21.9 ]\n",
            " [30.01 24.8 ]\n",
            " [21.13 11.9 ]\n",
            " [22.12 24.3 ]\n",
            " [23.75 23.75]\n",
            " [23.27 24.7 ]\n",
            " [15.28 14.1 ]\n",
            " [18.94 18.7 ]\n",
            " [23.59 28.1 ]\n",
            " [20.26 19.8 ]]\n"
          ]
        }
      ]
    },
    {
      "cell_type": "code",
      "source": [
        "from sklearn.metrics import r2_score\n",
        "r2_score(y_test, y_pred)"
      ],
      "metadata": {
        "colab": {
          "base_uri": "https://localhost:8080/"
        },
        "id": "hDdvY7sGxajU",
        "outputId": "21f3a4e9-2e99-47ff-a620-2059a630ad0b"
      },
      "execution_count": null,
      "outputs": [
        {
          "output_type": "execute_result",
          "data": {
            "text/plain": [
              "0.6892745855391385"
            ]
          },
          "metadata": {},
          "execution_count": 20
        }
      ]
    }
  ]
}